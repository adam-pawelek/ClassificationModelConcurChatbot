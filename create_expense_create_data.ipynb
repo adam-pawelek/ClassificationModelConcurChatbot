{
 "cells": [
  {
   "cell_type": "code",
   "id": "initial_id",
   "metadata": {
    "collapsed": true,
    "ExecuteTime": {
     "end_time": "2024-07-30T18:23:01.323708Z",
     "start_time": "2024-07-30T18:22:59.325376Z"
    }
   },
   "source": [
    "import copy\n",
    "import random\n",
    "import pandas as pd\n",
    "import openai\n",
    "import os\n",
    "from PyPDF2 import PdfReader\n",
    "import json\n",
    "\n",
    "CHATGPT_MODEL = \"gpt-4o\"\n",
    "client = None\n",
    "MAX_LENGTH = 4096\n",
    "\n",
    "NUM_QUESTIONS = 50 \n",
    "\n",
    "def set_openai_api_key(api_key):\n",
    "    global client\n",
    "    client = openai\n",
    "    client.api_key = api_key\n",
    "\n",
    "\n",
    "set_openai_api_key(input(\"Please enter your API key: \"))"
   ],
   "outputs": [],
   "execution_count": 17
  },
  {
   "metadata": {
    "ExecuteTime": {
     "end_time": "2024-07-30T19:49:56.298063Z",
     "start_time": "2024-07-30T19:49:56.295435Z"
    }
   },
   "cell_type": "code",
   "source": [
    "def generate_question(type, tips):\n",
    "    messages = [\n",
    "            {\"role\": \"system\", \"content\": f\"Your job is to create {type} that users would normally ask.\"},\n",
    "            {\"role\": \"user\",\n",
    "             \"content\": f\"Generate {NUM_QUESTIONS} questions in which you will ask the chatbot to create an expense for you from invoice {tips}:\\n[\\n[{{\\\"role\\\": \\\"user\\\", \\\"content\\\": \\\"question 1\\\"}}],\\n[{{\\\"role\\\": \\\"user\\\", \\\"content\\\": \\\"question 2\\\"}}],\\n... \\n] don't write ```json\"}\n",
    "        ]\n",
    "    return messages"
   ],
   "id": "379b5e2a3aaeaa75",
   "outputs": [],
   "execution_count": 46
  },
  {
   "metadata": {
    "ExecuteTime": {
     "end_time": "2024-07-30T19:49:56.529406Z",
     "start_time": "2024-07-30T19:49:56.526748Z"
    }
   },
   "cell_type": "code",
   "source": [
    "def generate_question_about_invoice_status(type, tips):\n",
    "    messages = [\n",
    "            {\"role\": \"system\", \"content\": f\"Your job is to create {type} that users would normally ask.\"},\n",
    "            {\"role\": \"user\",\n",
    "             \"content\": f\"Generate {NUM_QUESTIONS} questions in which you will ask the chatbot what is status of [Fake number] expense, made up some fake number that could be used as expense id  {tips}:\\n[\\n[{{\\\"role\\\": \\\"user\\\", \\\"content\\\": \\\"question 1\\\"}}],\\n[{{\\\"role\\\": \\\"user\\\", \\\"content\\\": \\\"question 2\\\"}}],\\n... \\n] don't write ```json\"}\n",
    "        ]\n",
    "    return messages"
   ],
   "id": "9e204eb243575f0",
   "outputs": [],
   "execution_count": 47
  },
  {
   "metadata": {
    "ExecuteTime": {
     "end_time": "2024-07-30T19:49:56.698177Z",
     "start_time": "2024-07-30T19:49:56.694115Z"
    }
   },
   "cell_type": "code",
   "source": [
    "def generate_questions_from_text(messages):\n",
    "    response = client.chat.completions.create(\n",
    "        model=CHATGPT_MODEL,\n",
    "        messages=messages,\n",
    "        max_tokens=MAX_LENGTH,\n",
    "    )\n",
    "\n",
    "    try:\n",
    "        print(response.choices[0].message.content)\n",
    "        synthetic_data = json.loads(response.choices[0].message.content)\n",
    "        print(synthetic_data)\n",
    "        return synthetic_data\n",
    "    except json.JSONDecodeError:\n",
    "        try:\n",
    "            print(\"Response not in JSON format. Asking ChatGPT to correct it.\")\n",
    "            correction_messages = [\n",
    "                {\"role\": \"system\", \"content\": \"Your job is to correct the format of the questions.\"},\n",
    "                {\"role\": \"user\",\n",
    "                 \"content\": f\"The previous response was not in the correct format. Ensure the response is in the following JSON format:\\n[\\n[{{\\\"role\\\": \\\"user\\\", \\\"content\\\": \\\"question 1\\\"}}],\\n[{{\\\"role\\\": \\\"user\\\", \\\"content\\\": \\\"question 2\\\"}}],\\n... \\n]\\nHere are the questions to reformat:\\n{response.choices[0].message['content']}  don't write ```json\"}\n",
    "            ]\n",
    "\n",
    "            response = client.chat.completions.create(\n",
    "                model=CHATGPT_MODEL,\n",
    "                messages=correction_messages,\n",
    "                max_tokens=MAX_LENGTH,\n",
    "            )\n",
    "\n",
    "            synthetic_data = json.loads(response.choices[0].message.content)\n",
    "\n",
    "            return synthetic_data\n",
    "        except Exception as e:\n",
    "            return []"
   ],
   "id": "6f11ce40aaa1747",
   "outputs": [],
   "execution_count": 48
  },
  {
   "metadata": {
    "ExecuteTime": {
     "end_time": "2024-07-30T19:49:56.888296Z",
     "start_time": "2024-07-30T19:49:56.885591Z"
    }
   },
   "cell_type": "code",
   "source": [
    "data_for_messages =  [\n",
    "    {\n",
    "        \"type_of_question\": \" order\",\n",
    "        \"tips\": \"(don't use term invoice in text)\"\n",
    "    }\n",
    "]\n",
    "#[\"short order impolite\"]#, \"Formal\", \"informal\", \"order\", \"short\"]\n"
   ],
   "id": "fe4fd41d71ca60e4",
   "outputs": [],
   "execution_count": 49
  },
  {
   "metadata": {
    "ExecuteTime": {
     "end_time": "2024-07-30T19:50:20.898855Z",
     "start_time": "2024-07-30T19:49:57.077499Z"
    }
   },
   "cell_type": "code",
   "source": [
    "for message_data  in data_for_messages:\n",
    "    print(generate_questions_from_text(generate_question(message_data[\"type_of_question\"], message_data[\"tips\"])))"
   ],
   "id": "d9aa2c1cf0ab308d",
   "outputs": [
    {
     "name": "stdout",
     "output_type": "stream",
     "text": [
      "[\n",
      "[{\"role\": \"user\", \"content\": \"Could you create an expense for the purchase made on date X?\"}],\n",
      "\n",
      "[{\"role\": \"user\", \"content\": \"Please add an expense for the office supplies bought last week.\"}],\n",
      "\n",
      "[{\"role\": \"user\", \"content\": \"Generate an expense entry for the recent payment to the vendor.\"}],\n",
      "\n",
      "[{\"role\": \"user\", \"content\": \"Can you log an expense for the services we acquired on date Y?\"}],\n",
      "\n",
      "[{\"role\": \"user\", \"content\": \"I need an expense created for the software subscription purchased yesterday.\"}],\n",
      "\n",
      "[{\"role\": \"user\", \"content\": \"Create an expense record for our recent travel expenditure.\"}],\n",
      "\n",
      "[{\"role\": \"user\", \"content\": \"Add an expense for the consultancy fees payable last month.\"}],\n",
      "\n",
      "[{\"role\": \"user\", \"content\": \"Please register an expense for the marketing services we outsourced.\"}],\n",
      "\n",
      "[{\"role\": \"user\", \"content\": \"Could you make an expense entry for the new office furniture we bought?\"}],\n",
      "\n",
      "[{\"role\": \"user\", \"content\": \"Log an expense for the dinner meeting with the client.\"}],\n",
      "\n",
      "[{\"role\": \"user\", \"content\": \"I need an expense created for the new hardware we ordered.\"}],\n",
      "\n",
      "[{\"role\": \"user\", \"content\": \"Create an expense for the maintenance services provided last week.\"}],\n",
      "\n",
      "[{\"role\": \"user\", \"content\": \"Can you record an expense for the recent purchase of computer accessories?\"}],\n",
      "\n",
      "[{\"role\": \"user\", \"content\": \"Please log an expense for the employee training session fees.\"}],\n",
      "\n",
      "[{\"role\": \"user\", \"content\": \"Generate an expense entry for the advertising costs this month.\"}],\n",
      "\n",
      "[{\"role\": \"user\", \"content\": \"Make an expense for the event sponsorship we agreed to.\"}],\n",
      "\n",
      "[{\"role\": \"user\", \"content\": \"Add an expense for the recent courier services we used.\"}],\n",
      "\n",
      "[{\"role\": \"user\", \"content\": \"Create an expense for the annual membership fees we paid.\"}],\n",
      "\n",
      "[{\"role\": \"user\", \"content\": \"Can you register an expense for the outsourced accounting services?\"}],\n",
      "\n",
      "[{\"role\": \"user\", \"content\": \"Log an expense for the purchase of office snacks.\"}],\n",
      "\n",
      "[{\"role\": \"user\", \"content\": \"Please add an expense for the recent team lunch.\"}],\n",
      "\n",
      "[{\"role\": \"user\", \"content\": \"Generate an expense entry for the graphic design services rendered.\"}],\n",
      "\n",
      "[{\"role\": \"user\", \"content\": \"Create an expense for the new project management software license.\"}],\n",
      "\n",
      "[{\"role\": \"user\", \"content\": \"Could you log an expense for the recent business travel tickets?\"}],\n",
      "\n",
      "[{\"role\": \"user\", \"content\": \"Add an expense for the repairs done at the office premises.\"}],\n",
      "\n",
      "[{\"role\": \"user\", \"content\": \"Record an expense for the legal consultation fees.\"}],\n",
      "\n",
      "[{\"role\": \"user\", \"content\": \"Please create an expense for the monthly subscription to the online tool.\"}],\n",
      "\n",
      "[{\"role\": \"user\", \"content\": \"Make an expense entry for the purchase of business cards.\"}],\n",
      "\n",
      "[{\"role\": \"user\", \"content\": \"Log an expense for the recent hotel stay during the business trip.\"}],\n",
      "\n",
      "[{\"role\": \"user\", \"content\": \"I need you to generate an expense for the professional photography service.\"}],\n",
      "\n",
      "[{\"role\": \"user\", \"content\": \"Create an expense for the purchase of new ergonomic chairs.\"}],\n",
      "\n",
      "[{\"role\": \"user\", \"content\": \"Add an expense entry for the domain registration fees.\"}],\n",
      "\n",
      "[{\"role\": \"user\", \"content\": \"Could you add an expense for the cleaning services for the past month?\"}],\n",
      "\n",
      "[{\"role\": \"user\", \"content\": \"Record an expense for the monthly utility bills for the office.\"}],\n",
      "\n",
      "[{\"role\": \"user\", \"content\": \"Generate an expense for the annual software maintenance contract.\"}],\n",
      "\n",
      "[{\"role\": \"user\", \"content\": \"Please create an expense for the printing services we used.\"}],\n",
      "\n",
      "[{\"role\": \"user\", \"content\": \"Log an expense for the monthly internet charges.\"}],\n",
      "\n",
      "[{\"role\": \"user\", \"content\": \"Add an expense for the recent office decorations.\"}],\n",
      "\n",
      "[{\"role\": \"user\", \"content\": \"Please register an expense for the professional development course.\"}],\n",
      "\n",
      "[{\"role\": \"user\", \"content\": \"Create an expense for the marketing consulting we received.\"}],\n",
      "\n",
      "[{\"role\": \"user\", \"content\": \"Could you log an expense for the new company website design?\"}],\n",
      "\n",
      "[{\"role\": \"user\", \"content\": \"Generate an expense entry for the conference fees we paid.\"}],\n",
      "\n",
      "[{\"role\": \"user\", \"content\": \"Make an expense for the telephone bill last month.\"}],\n",
      "\n",
      "[{\"role\": \"user\", \"content\": \"Log an expense for the software update fees.\"}],\n",
      "\n",
      "[{\"role\": \"user\", \"content\": \"Record an expense for the new employee uniforms.\"}],\n",
      "\n",
      "[{\"role\": \"user\", \"content\": \"Could you create an expense for the international call charges?\"}],\n",
      "\n",
      "[{\"role\": \"user\", \"content\": \"Make an expense entry for the social media advertising costs.\"}],\n",
      "\n",
      "[{\"role\": \"user\", \"content\": \"Add an expense for the purchased office plants.\"}],\n",
      "\n",
      "[{\"role\": \"user\", \"content\": \"Please log an expense for the repair of the office air conditioning.\"}]\n",
      "]\n",
      "[[{'role': 'user', 'content': 'Could you create an expense for the purchase made on date X?'}], [{'role': 'user', 'content': 'Please add an expense for the office supplies bought last week.'}], [{'role': 'user', 'content': 'Generate an expense entry for the recent payment to the vendor.'}], [{'role': 'user', 'content': 'Can you log an expense for the services we acquired on date Y?'}], [{'role': 'user', 'content': 'I need an expense created for the software subscription purchased yesterday.'}], [{'role': 'user', 'content': 'Create an expense record for our recent travel expenditure.'}], [{'role': 'user', 'content': 'Add an expense for the consultancy fees payable last month.'}], [{'role': 'user', 'content': 'Please register an expense for the marketing services we outsourced.'}], [{'role': 'user', 'content': 'Could you make an expense entry for the new office furniture we bought?'}], [{'role': 'user', 'content': 'Log an expense for the dinner meeting with the client.'}], [{'role': 'user', 'content': 'I need an expense created for the new hardware we ordered.'}], [{'role': 'user', 'content': 'Create an expense for the maintenance services provided last week.'}], [{'role': 'user', 'content': 'Can you record an expense for the recent purchase of computer accessories?'}], [{'role': 'user', 'content': 'Please log an expense for the employee training session fees.'}], [{'role': 'user', 'content': 'Generate an expense entry for the advertising costs this month.'}], [{'role': 'user', 'content': 'Make an expense for the event sponsorship we agreed to.'}], [{'role': 'user', 'content': 'Add an expense for the recent courier services we used.'}], [{'role': 'user', 'content': 'Create an expense for the annual membership fees we paid.'}], [{'role': 'user', 'content': 'Can you register an expense for the outsourced accounting services?'}], [{'role': 'user', 'content': 'Log an expense for the purchase of office snacks.'}], [{'role': 'user', 'content': 'Please add an expense for the recent team lunch.'}], [{'role': 'user', 'content': 'Generate an expense entry for the graphic design services rendered.'}], [{'role': 'user', 'content': 'Create an expense for the new project management software license.'}], [{'role': 'user', 'content': 'Could you log an expense for the recent business travel tickets?'}], [{'role': 'user', 'content': 'Add an expense for the repairs done at the office premises.'}], [{'role': 'user', 'content': 'Record an expense for the legal consultation fees.'}], [{'role': 'user', 'content': 'Please create an expense for the monthly subscription to the online tool.'}], [{'role': 'user', 'content': 'Make an expense entry for the purchase of business cards.'}], [{'role': 'user', 'content': 'Log an expense for the recent hotel stay during the business trip.'}], [{'role': 'user', 'content': 'I need you to generate an expense for the professional photography service.'}], [{'role': 'user', 'content': 'Create an expense for the purchase of new ergonomic chairs.'}], [{'role': 'user', 'content': 'Add an expense entry for the domain registration fees.'}], [{'role': 'user', 'content': 'Could you add an expense for the cleaning services for the past month?'}], [{'role': 'user', 'content': 'Record an expense for the monthly utility bills for the office.'}], [{'role': 'user', 'content': 'Generate an expense for the annual software maintenance contract.'}], [{'role': 'user', 'content': 'Please create an expense for the printing services we used.'}], [{'role': 'user', 'content': 'Log an expense for the monthly internet charges.'}], [{'role': 'user', 'content': 'Add an expense for the recent office decorations.'}], [{'role': 'user', 'content': 'Please register an expense for the professional development course.'}], [{'role': 'user', 'content': 'Create an expense for the marketing consulting we received.'}], [{'role': 'user', 'content': 'Could you log an expense for the new company website design?'}], [{'role': 'user', 'content': 'Generate an expense entry for the conference fees we paid.'}], [{'role': 'user', 'content': 'Make an expense for the telephone bill last month.'}], [{'role': 'user', 'content': 'Log an expense for the software update fees.'}], [{'role': 'user', 'content': 'Record an expense for the new employee uniforms.'}], [{'role': 'user', 'content': 'Could you create an expense for the international call charges?'}], [{'role': 'user', 'content': 'Make an expense entry for the social media advertising costs.'}], [{'role': 'user', 'content': 'Add an expense for the purchased office plants.'}], [{'role': 'user', 'content': 'Please log an expense for the repair of the office air conditioning.'}]]\n",
      "[[{'role': 'user', 'content': 'Could you create an expense for the purchase made on date X?'}], [{'role': 'user', 'content': 'Please add an expense for the office supplies bought last week.'}], [{'role': 'user', 'content': 'Generate an expense entry for the recent payment to the vendor.'}], [{'role': 'user', 'content': 'Can you log an expense for the services we acquired on date Y?'}], [{'role': 'user', 'content': 'I need an expense created for the software subscription purchased yesterday.'}], [{'role': 'user', 'content': 'Create an expense record for our recent travel expenditure.'}], [{'role': 'user', 'content': 'Add an expense for the consultancy fees payable last month.'}], [{'role': 'user', 'content': 'Please register an expense for the marketing services we outsourced.'}], [{'role': 'user', 'content': 'Could you make an expense entry for the new office furniture we bought?'}], [{'role': 'user', 'content': 'Log an expense for the dinner meeting with the client.'}], [{'role': 'user', 'content': 'I need an expense created for the new hardware we ordered.'}], [{'role': 'user', 'content': 'Create an expense for the maintenance services provided last week.'}], [{'role': 'user', 'content': 'Can you record an expense for the recent purchase of computer accessories?'}], [{'role': 'user', 'content': 'Please log an expense for the employee training session fees.'}], [{'role': 'user', 'content': 'Generate an expense entry for the advertising costs this month.'}], [{'role': 'user', 'content': 'Make an expense for the event sponsorship we agreed to.'}], [{'role': 'user', 'content': 'Add an expense for the recent courier services we used.'}], [{'role': 'user', 'content': 'Create an expense for the annual membership fees we paid.'}], [{'role': 'user', 'content': 'Can you register an expense for the outsourced accounting services?'}], [{'role': 'user', 'content': 'Log an expense for the purchase of office snacks.'}], [{'role': 'user', 'content': 'Please add an expense for the recent team lunch.'}], [{'role': 'user', 'content': 'Generate an expense entry for the graphic design services rendered.'}], [{'role': 'user', 'content': 'Create an expense for the new project management software license.'}], [{'role': 'user', 'content': 'Could you log an expense for the recent business travel tickets?'}], [{'role': 'user', 'content': 'Add an expense for the repairs done at the office premises.'}], [{'role': 'user', 'content': 'Record an expense for the legal consultation fees.'}], [{'role': 'user', 'content': 'Please create an expense for the monthly subscription to the online tool.'}], [{'role': 'user', 'content': 'Make an expense entry for the purchase of business cards.'}], [{'role': 'user', 'content': 'Log an expense for the recent hotel stay during the business trip.'}], [{'role': 'user', 'content': 'I need you to generate an expense for the professional photography service.'}], [{'role': 'user', 'content': 'Create an expense for the purchase of new ergonomic chairs.'}], [{'role': 'user', 'content': 'Add an expense entry for the domain registration fees.'}], [{'role': 'user', 'content': 'Could you add an expense for the cleaning services for the past month?'}], [{'role': 'user', 'content': 'Record an expense for the monthly utility bills for the office.'}], [{'role': 'user', 'content': 'Generate an expense for the annual software maintenance contract.'}], [{'role': 'user', 'content': 'Please create an expense for the printing services we used.'}], [{'role': 'user', 'content': 'Log an expense for the monthly internet charges.'}], [{'role': 'user', 'content': 'Add an expense for the recent office decorations.'}], [{'role': 'user', 'content': 'Please register an expense for the professional development course.'}], [{'role': 'user', 'content': 'Create an expense for the marketing consulting we received.'}], [{'role': 'user', 'content': 'Could you log an expense for the new company website design?'}], [{'role': 'user', 'content': 'Generate an expense entry for the conference fees we paid.'}], [{'role': 'user', 'content': 'Make an expense for the telephone bill last month.'}], [{'role': 'user', 'content': 'Log an expense for the software update fees.'}], [{'role': 'user', 'content': 'Record an expense for the new employee uniforms.'}], [{'role': 'user', 'content': 'Could you create an expense for the international call charges?'}], [{'role': 'user', 'content': 'Make an expense entry for the social media advertising costs.'}], [{'role': 'user', 'content': 'Add an expense for the purchased office plants.'}], [{'role': 'user', 'content': 'Please log an expense for the repair of the office air conditioning.'}]]\n"
     ]
    }
   ],
   "execution_count": 50
  },
  {
   "metadata": {
    "ExecuteTime": {
     "end_time": "2024-07-30T19:54:13.978306Z",
     "start_time": "2024-07-30T19:54:13.975159Z"
    }
   },
   "cell_type": "code",
   "source": [
    "data_for_messages_expense_status =  [\n",
    "    {\n",
    "        \"type_of_question\": \" order\",\n",
    "        \"tips\": \"(don't use term id in text)\"\n",
    "    }\n",
    "]"
   ],
   "id": "f83a9ba1e8f252eb",
   "outputs": [],
   "execution_count": 53
  },
  {
   "metadata": {
    "ExecuteTime": {
     "end_time": "2024-07-30T19:54:32.734244Z",
     "start_time": "2024-07-30T19:54:15.320768Z"
    }
   },
   "cell_type": "code",
   "source": [
    "for message_data  in data_for_messages_expense_status:\n",
    "    print(generate_questions_from_text(generate_question_about_invoice_status(message_data[\"type_of_question\"], message_data[\"tips\"])))"
   ],
   "id": "e17ea0947d81c618",
   "outputs": [
    {
     "name": "stdout",
     "output_type": "stream",
     "text": [
      "[\n",
      "  [{\"role\": \"user\", \"content\": \"Can you check the status of expense number 47821?\"}],\n",
      "  [{\"role\": \"user\", \"content\": \"What's happening with expense 98347?\"}],\n",
      "  [{\"role\": \"user\", \"content\": \"How is expense 56219 progressing?\"}],\n",
      "  [{\"role\": \"user\", \"content\": \"Is expense 85120 approved yet?\"}],\n",
      "  [{\"role\": \"user\", \"content\": \"What is the current state of expense 42578?\"}],\n",
      "  [{\"role\": \"user\", \"content\": \"Could you provide an update on expense 76301?\"}],\n",
      "  [{\"role\": \"user\", \"content\": \"What's the status of expense 35286 today?\"}],\n",
      "  [{\"role\": \"user\", \"content\": \"Can you look up the status for expense 19475?\"}],\n",
      "  [{\"role\": \"user\", \"content\": \"Has there been any progress on expense 92257?\"}],\n",
      "  [{\"role\": \"user\", \"content\": \"I'd like to know what's going on with expense 47892.\"}],\n",
      "  [{\"role\": \"user\", \"content\": \"What stage is expense 29471 at right now?\"}],\n",
      "  [{\"role\": \"user\", \"content\": \"Please tell me the status of expense number 67459.\"}],\n",
      "  [{\"role\": \"user\", \"content\": \"Can you update me on expense 98123?\"}],\n",
      "  [{\"role\": \"user\", \"content\": \"What's the current update on expense 71538?\"}],\n",
      "  [{\"role\": \"user\", \"content\": \"Has expense 39487 been processed yet?\"}],\n",
      "  [{\"role\": \"user\", \"content\": \"Where do things stand with expense 58762?\"}],\n",
      "  [{\"role\": \"user\", \"content\": \"Can you tell me the status of expense 12345?\"}],\n",
      "  [{\"role\": \"user\", \"content\": \"Is there any news on expense 67890?\"}],\n",
      "  [{\"role\": \"user\", \"content\": \"How's expense 54321 doing?\"}],\n",
      "  [{\"role\": \"user\", \"content\": \"Please check what is happening with expense 49573.\"}],\n",
      "  [{\"role\": \"user\", \"content\": \"What's the latest status of expense 61024?\"}],\n",
      "  [{\"role\": \"user\", \"content\": \"Can you give me an update on expense 78901?\"}],\n",
      "  [{\"role\": \"user\", \"content\": \"How is expense 23456 progressing?\"}],\n",
      "  [{\"role\": \"user\", \"content\": \"What is the current state of expense 98765?\"}],\n",
      "  [{\"role\": \"user\", \"content\": \"Can you check on expense 34567 for me?\"}],\n",
      "  [{\"role\": \"user\", \"content\": \"Where are we with expense number 87954?\"}],\n",
      "  [{\"role\": \"user\", \"content\": \"Is expense 11223 finalized?\"}],\n",
      "  [{\"role\": \"user\", \"content\": \"What's the status update for expense 55678?\"}],\n",
      "  [{\"role\": \"user\", \"content\": \"Can you provide a current status for expense 99887?\"}],\n",
      "  [{\"role\": \"user\", \"content\": \"What's happening with expense 44321?\"}],\n",
      "  [{\"role\": \"user\", \"content\": \"Can you find out the status of expense 87654?\"}],\n",
      "  [{\"role\": \"user\", \"content\": \"How far along is expense 32109?\"}],\n",
      "  [{\"role\": \"user\", \"content\": \"Please check the status of expense number 56478.\"}],\n",
      "  [{\"role\": \"user\", \"content\": \"What stage is expense 21987 in?\"}],\n",
      "  [{\"role\": \"user\", \"content\": \"How is expense 43210 going?\"}],\n",
      "  [{\"role\": \"user\", \"content\": \"Give me an update on expense 67801, please.\"}],\n",
      "  [{\"role\": \"user\", \"content\": \"Can you tell where we stand with expense 94627?\"}],\n",
      "  [{\"role\": \"user\", \"content\": \"What’s the latest on expense number 34521?\"}],\n",
      "  [{\"role\": \"user\", \"content\": \"What's the current status of expense 18462?\"}],\n",
      "  [{\"role\": \"user\", \"content\": \"Can you look into expense 27415 for an update?\"}],\n",
      "  [{\"role\": \"user\", \"content\": \"Where do we stand with expense 37629?\"}],\n",
      "  [{\"role\": \"user\", \"content\": \"Has there been any movement on expense 48251?\"}],\n",
      "  [{\"role\": \"user\", \"content\": \"I'd like to know the status of expense 51723.\"}],\n",
      "  [{\"role\": \"user\", \"content\": \"What update can you provide on expense 26354?\"}],\n",
      "  [{\"role\": \"user\", \"content\": \"Can you check the progress of expense 75512?\"}],\n",
      "  [{\"role\": \"user\", \"content\": \"How's it going with expense 81509?\"}],\n",
      "  [{\"role\": \"user\", \"content\": \"Is there a current status available for expense 40218?\"}],\n",
      "  [{\"role\": \"user\", \"content\": \"What's the most recent status of expense 65631?\"}],\n",
      "  [{\"role\": \"user\", \"content\": \"Could you find out the status for expense 97341?\"}],\n",
      "  [{\"role\": \"user\", \"content\": \"Where do things currently stand with expense 21567?\"}]\n",
      "]\n",
      "[[{'role': 'user', 'content': 'Can you check the status of expense number 47821?'}], [{'role': 'user', 'content': \"What's happening with expense 98347?\"}], [{'role': 'user', 'content': 'How is expense 56219 progressing?'}], [{'role': 'user', 'content': 'Is expense 85120 approved yet?'}], [{'role': 'user', 'content': 'What is the current state of expense 42578?'}], [{'role': 'user', 'content': 'Could you provide an update on expense 76301?'}], [{'role': 'user', 'content': \"What's the status of expense 35286 today?\"}], [{'role': 'user', 'content': 'Can you look up the status for expense 19475?'}], [{'role': 'user', 'content': 'Has there been any progress on expense 92257?'}], [{'role': 'user', 'content': \"I'd like to know what's going on with expense 47892.\"}], [{'role': 'user', 'content': 'What stage is expense 29471 at right now?'}], [{'role': 'user', 'content': 'Please tell me the status of expense number 67459.'}], [{'role': 'user', 'content': 'Can you update me on expense 98123?'}], [{'role': 'user', 'content': \"What's the current update on expense 71538?\"}], [{'role': 'user', 'content': 'Has expense 39487 been processed yet?'}], [{'role': 'user', 'content': 'Where do things stand with expense 58762?'}], [{'role': 'user', 'content': 'Can you tell me the status of expense 12345?'}], [{'role': 'user', 'content': 'Is there any news on expense 67890?'}], [{'role': 'user', 'content': \"How's expense 54321 doing?\"}], [{'role': 'user', 'content': 'Please check what is happening with expense 49573.'}], [{'role': 'user', 'content': \"What's the latest status of expense 61024?\"}], [{'role': 'user', 'content': 'Can you give me an update on expense 78901?'}], [{'role': 'user', 'content': 'How is expense 23456 progressing?'}], [{'role': 'user', 'content': 'What is the current state of expense 98765?'}], [{'role': 'user', 'content': 'Can you check on expense 34567 for me?'}], [{'role': 'user', 'content': 'Where are we with expense number 87954?'}], [{'role': 'user', 'content': 'Is expense 11223 finalized?'}], [{'role': 'user', 'content': \"What's the status update for expense 55678?\"}], [{'role': 'user', 'content': 'Can you provide a current status for expense 99887?'}], [{'role': 'user', 'content': \"What's happening with expense 44321?\"}], [{'role': 'user', 'content': 'Can you find out the status of expense 87654?'}], [{'role': 'user', 'content': 'How far along is expense 32109?'}], [{'role': 'user', 'content': 'Please check the status of expense number 56478.'}], [{'role': 'user', 'content': 'What stage is expense 21987 in?'}], [{'role': 'user', 'content': 'How is expense 43210 going?'}], [{'role': 'user', 'content': 'Give me an update on expense 67801, please.'}], [{'role': 'user', 'content': 'Can you tell where we stand with expense 94627?'}], [{'role': 'user', 'content': 'What’s the latest on expense number 34521?'}], [{'role': 'user', 'content': \"What's the current status of expense 18462?\"}], [{'role': 'user', 'content': 'Can you look into expense 27415 for an update?'}], [{'role': 'user', 'content': 'Where do we stand with expense 37629?'}], [{'role': 'user', 'content': 'Has there been any movement on expense 48251?'}], [{'role': 'user', 'content': \"I'd like to know the status of expense 51723.\"}], [{'role': 'user', 'content': 'What update can you provide on expense 26354?'}], [{'role': 'user', 'content': 'Can you check the progress of expense 75512?'}], [{'role': 'user', 'content': \"How's it going with expense 81509?\"}], [{'role': 'user', 'content': 'Is there a current status available for expense 40218?'}], [{'role': 'user', 'content': \"What's the most recent status of expense 65631?\"}], [{'role': 'user', 'content': 'Could you find out the status for expense 97341?'}], [{'role': 'user', 'content': 'Where do things currently stand with expense 21567?'}]]\n",
      "[[{'role': 'user', 'content': 'Can you check the status of expense number 47821?'}], [{'role': 'user', 'content': \"What's happening with expense 98347?\"}], [{'role': 'user', 'content': 'How is expense 56219 progressing?'}], [{'role': 'user', 'content': 'Is expense 85120 approved yet?'}], [{'role': 'user', 'content': 'What is the current state of expense 42578?'}], [{'role': 'user', 'content': 'Could you provide an update on expense 76301?'}], [{'role': 'user', 'content': \"What's the status of expense 35286 today?\"}], [{'role': 'user', 'content': 'Can you look up the status for expense 19475?'}], [{'role': 'user', 'content': 'Has there been any progress on expense 92257?'}], [{'role': 'user', 'content': \"I'd like to know what's going on with expense 47892.\"}], [{'role': 'user', 'content': 'What stage is expense 29471 at right now?'}], [{'role': 'user', 'content': 'Please tell me the status of expense number 67459.'}], [{'role': 'user', 'content': 'Can you update me on expense 98123?'}], [{'role': 'user', 'content': \"What's the current update on expense 71538?\"}], [{'role': 'user', 'content': 'Has expense 39487 been processed yet?'}], [{'role': 'user', 'content': 'Where do things stand with expense 58762?'}], [{'role': 'user', 'content': 'Can you tell me the status of expense 12345?'}], [{'role': 'user', 'content': 'Is there any news on expense 67890?'}], [{'role': 'user', 'content': \"How's expense 54321 doing?\"}], [{'role': 'user', 'content': 'Please check what is happening with expense 49573.'}], [{'role': 'user', 'content': \"What's the latest status of expense 61024?\"}], [{'role': 'user', 'content': 'Can you give me an update on expense 78901?'}], [{'role': 'user', 'content': 'How is expense 23456 progressing?'}], [{'role': 'user', 'content': 'What is the current state of expense 98765?'}], [{'role': 'user', 'content': 'Can you check on expense 34567 for me?'}], [{'role': 'user', 'content': 'Where are we with expense number 87954?'}], [{'role': 'user', 'content': 'Is expense 11223 finalized?'}], [{'role': 'user', 'content': \"What's the status update for expense 55678?\"}], [{'role': 'user', 'content': 'Can you provide a current status for expense 99887?'}], [{'role': 'user', 'content': \"What's happening with expense 44321?\"}], [{'role': 'user', 'content': 'Can you find out the status of expense 87654?'}], [{'role': 'user', 'content': 'How far along is expense 32109?'}], [{'role': 'user', 'content': 'Please check the status of expense number 56478.'}], [{'role': 'user', 'content': 'What stage is expense 21987 in?'}], [{'role': 'user', 'content': 'How is expense 43210 going?'}], [{'role': 'user', 'content': 'Give me an update on expense 67801, please.'}], [{'role': 'user', 'content': 'Can you tell where we stand with expense 94627?'}], [{'role': 'user', 'content': 'What’s the latest on expense number 34521?'}], [{'role': 'user', 'content': \"What's the current status of expense 18462?\"}], [{'role': 'user', 'content': 'Can you look into expense 27415 for an update?'}], [{'role': 'user', 'content': 'Where do we stand with expense 37629?'}], [{'role': 'user', 'content': 'Has there been any movement on expense 48251?'}], [{'role': 'user', 'content': \"I'd like to know the status of expense 51723.\"}], [{'role': 'user', 'content': 'What update can you provide on expense 26354?'}], [{'role': 'user', 'content': 'Can you check the progress of expense 75512?'}], [{'role': 'user', 'content': \"How's it going with expense 81509?\"}], [{'role': 'user', 'content': 'Is there a current status available for expense 40218?'}], [{'role': 'user', 'content': \"What's the most recent status of expense 65631?\"}], [{'role': 'user', 'content': 'Could you find out the status for expense 97341?'}], [{'role': 'user', 'content': 'Where do things currently stand with expense 21567?'}]]\n"
     ]
    }
   ],
   "execution_count": 54
  },
  {
   "metadata": {},
   "cell_type": "code",
   "outputs": [],
   "execution_count": null,
   "source": "",
   "id": "260313877f1f516c"
  }
 ],
 "metadata": {
  "kernelspec": {
   "display_name": "Python 3",
   "language": "python",
   "name": "python3"
  },
  "language_info": {
   "codemirror_mode": {
    "name": "ipython",
    "version": 2
   },
   "file_extension": ".py",
   "mimetype": "text/x-python",
   "name": "python",
   "nbconvert_exporter": "python",
   "pygments_lexer": "ipython2",
   "version": "2.7.6"
  }
 },
 "nbformat": 4,
 "nbformat_minor": 5
}
